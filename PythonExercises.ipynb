{
 "cells": [
  {
   "cell_type": "markdown",
   "id": "7eb7a478",
   "metadata": {},
   "source": [
    "# Python Exercise"
   ]
  },
  {
   "cell_type": "markdown",
   "id": "e5c1a16a",
   "metadata": {},
   "source": [
    "# 1\n",
    "Given a year, determine whether it is a leap year. If it is a leap year, return the Boolean True, otherwise return False.\n",
    "An extra day is added to the calendar almost every four years as February 29, and the\n",
    "day is called a leap day. It corrects the calendar for the fact that our planet takes\n",
    "approximately 365.25 days to orbit the sun. A leap year contains a leap day.\n",
    "In the Gregorian calendar, three conditions are used to identify leap years:\n",
    "● The year can be evenly divided by 4, is a leap year, unless:\n",
    "■ The year can be evenly divided by 100, it is NOT a leap year, unless:\n",
    "● The year is also evenly divisible by 400. Then it is a leap year.\n",
    "This means that in the Gregorian calendar, the years 2000 and 2400 are leap years,\n",
    "while 1800, 1900, 2100, 2200, 2300 and 2500 are NOT leap years.\n",
    "Given a year, determine whether it is a leap year. If it is a leap year, return the Boolean\n",
    "True, otherwise return False."
   ]
  },
  {
   "cell_type": "code",
   "execution_count": 2,
   "id": "4749f095",
   "metadata": {},
   "outputs": [
    {
     "name": "stdout",
     "output_type": "stream",
     "text": [
      "Enter Year to check: 2018\n",
      "False\n"
     ]
    }
   ],
   "source": [
    "def is_leap_year(year):\n",
    "    return year % 4 == 0 and (year % 100 != 0 or year % 400 == 0)\n",
    "\n",
    "\n",
    "year = int(input(\"Enter Year to check: \"))\n",
    "is_leap = is_leap_year(year)\n",
    "print(is_leap)\n"
   ]
  },
  {
   "cell_type": "markdown",
   "id": "967a666e",
   "metadata": {},
   "source": [
    "# 2\n",
    "Write a Python function that takes two lists of integers as input and returns a new list\n",
    "containing only the numbers that are present in both lists, but with each number\n",
    "appearing only once in the final list."
   ]
  },
  {
   "cell_type": "code",
   "execution_count": 1,
   "id": "5efd6ddc",
   "metadata": {},
   "outputs": [
    {
     "name": "stdout",
     "output_type": "stream",
     "text": [
      "[3, 4, 5]\n"
     ]
    }
   ],
   "source": [
    "# def listOfDuplicate(list1, list2):\n",
    "#     list3 = []\n",
    "#     for i in list1[:]:\n",
    "#         if i in list2:\n",
    "#             list3.append(i)\n",
    "#     return list3\n",
    "\n",
    "def listOfDuplicate(list1, list2):\n",
    "    return [i for i in list1 if i in list2]\n",
    "\n",
    "\n",
    "a = [1, 2, 3, 4, 5]\n",
    "b = [3, 4, 5, 6, 7]\n",
    "\n",
    "print(listOfDuplicate(a, b))"
   ]
  },
  {
   "cell_type": "markdown",
   "id": "4f5ff2a9",
   "metadata": {},
   "source": [
    "# 3\n",
    "Write a Python program that takes a string as input and returns a dictionary where each key is a unique word in the string and he value is a list of the indices where that word appears in the string."
   ]
  },
  {
   "cell_type": "code",
   "execution_count": 3,
   "id": "059e3476",
   "metadata": {},
   "outputs": [
    {
     "name": "stdout",
     "output_type": "stream",
     "text": [
      "{'hello': [0, 5], 'my': [1], 'name': [2], 'is': [3], 'john': [4, 6]}\n"
     ]
    }
   ],
   "source": [
    "def word_indices(string):\n",
    "    string = string.lower().replace(\",\", \"\").replace(\".\", \"\").replace(\"!\", \" \")\n",
    "    words = string.split()\n",
    "    word_indices = {}\n",
    "\n",
    "    for i, word in enumerate(words):\n",
    "        # print(i)\n",
    "        # print(word)\n",
    "        if word not in word_indices:\n",
    "            word_indices[word] = [i]\n",
    "        else:\n",
    "            word_indices[word].append(i)\n",
    "\n",
    "    return word_indices\n",
    "\n",
    "\n",
    "string = \"Hello, my name is John. Hello, John!\"\n",
    "result = word_indices(string)\n",
    "print(result)\n"
   ]
  },
  {
   "cell_type": "markdown",
   "id": "8c0b0dd9",
   "metadata": {},
   "source": [
    "# 4 \n",
    "Write a Python function that takes a list of integers as input and returns a new list with the elements sorted in descending order, but with all odd  numbers appearing before all even numbers."
   ]
  },
  {
   "cell_type": "code",
   "execution_count": 4,
   "id": "77893aec",
   "metadata": {},
   "outputs": [
    {
     "name": "stdout",
     "output_type": "stream",
     "text": [
      "[1, 3, 5, 7, 9, 2, 4, 6]\n"
     ]
    }
   ],
   "source": [
    "# def sortOddEven(list1):\n",
    "#     oddList = sorted(filter(lambda x: x % 2 != 0, list1))\n",
    "#     evenList = sorted(filter(lambda x: x % 2 == 0, list1))\n",
    "#     return oddList + evenList\n",
    "\n",
    "\n",
    "def sortOddEven(list1):\n",
    "    # for odd number key=lambda x: (x % 2 == 0, x) becomes eg: for number 3, key = (False,3)\n",
    "    # since key is tuple, sorted compares first element of tuple first and moves on to the second only if the first are equal\n",
    "    # for (false,3) false (0)<true(1) so odd are placed first and then sorted first\n",
    "    list2 = sorted(list1, key=lambda x: (x % 2 == 0, x))\n",
    "    return list2\n",
    "\n",
    "\n",
    "list1 = [2, 3, 5, 1, 7, 6, 4, 9]\n",
    "print(sortOddEven(list1))\n"
   ]
  },
  {
   "cell_type": "markdown",
   "id": "6c1ebc81",
   "metadata": {},
   "source": [
    "# 5\n",
    "Write a Python program that takes two sets as input and returns a new set containing the elements that are in the first set but not in the second set, and the elements that are in the second set but not in the first set."
   ]
  },
  {
   "cell_type": "code",
   "execution_count": 5,
   "id": "5098fb5b",
   "metadata": {},
   "outputs": [
    {
     "name": "stdout",
     "output_type": "stream",
     "text": [
      "{'Mango', 2, 3, 5, 'Apple', 'Banana'}\n"
     ]
    }
   ],
   "source": [
    "seta = {\"Mango\", \"Apple\", 2, 6, \"Papaya\"}\n",
    "setb = {\"Papaya\", 6, \"Banana\", 5, 3}\n",
    "\n",
    "# select elements in a and b but not in both\n",
    "print(seta.symmetric_difference(setb))"
   ]
  },
  {
   "cell_type": "markdown",
   "id": "b81c72fe",
   "metadata": {},
   "source": [
    "# 6\n",
    "Write a Python function that takes a list of strings as input and returns a new list containing only the strings that are palindromes."
   ]
  },
  {
   "cell_type": "code",
   "execution_count": 7,
   "id": "65e629fd",
   "metadata": {},
   "outputs": [
    {
     "name": "stdout",
     "output_type": "stream",
     "text": [
      "['mom', 'lol', 'rotator']\n"
     ]
    }
   ],
   "source": [
    "# def palindrome(stringsList):\n",
    "#     newList = []\n",
    "#     for string in stringsList:\n",
    "#         if string == string[::-1]:\n",
    "#             newList.append(string)\n",
    "\n",
    "#     return newList\n",
    "\n",
    "\n",
    "# using list comprehension\n",
    "def palindrome(stringsList):\n",
    "    return [string for string in stringsList if string == string[::-1]]\n",
    "\n",
    "\n",
    "strings = [\"mom\", \"car\", \"lol\", \"word\", \"rotator\", \"apple\"]\n",
    "print(palindrome(strings))\n"
   ]
  },
  {
   "cell_type": "markdown",
   "id": "4654bc4d",
   "metadata": {},
   "source": [
    "# 7\n",
    "Write a Python program that takes a list of tuples, where each tuple contains a string and an integer, and returns a new list containing the tuples sorted by the length of the string, with ties broken by the value of the integer."
   ]
  },
  {
   "cell_type": "code",
   "execution_count": 6,
   "id": "e2e278ae",
   "metadata": {},
   "outputs": [
    {
     "name": "stdout",
     "output_type": "stream",
     "text": [
      "[('Pens', 5), ('Copy', 30), ('Books', 1), ('Pencil', 12)]\n"
     ]
    }
   ],
   "source": [
    "def sortTuple(inputList):\n",
    "    return sorted(inputList, key=lambda x: (len(x[0]), x[1]))\n",
    "\n",
    "\n",
    "listInput = [(\"Pencil\", 12), (\"Pens\", 5), (\"Copy\", 30), (\"Books\", 1)]\n",
    "print(sortTuple(listInput))\n"
   ]
  },
  {
   "cell_type": "markdown",
   "id": "c7b2b782",
   "metadata": {},
   "source": [
    "# 8\n",
    "Write a Python function that takes a dictionary as input and returns a new dictionary where the keys are sorted alphabetically and the values are sorted in descending order."
   ]
  },
  {
   "cell_type": "code",
   "execution_count": 8,
   "id": "569ddf34",
   "metadata": {},
   "outputs": [
    {
     "name": "stdout",
     "output_type": "stream",
     "text": [
      "[('Book', 4), ('Copy', 5), ('Pen', 7), ('Pencil', 2)]\n"
     ]
    }
   ],
   "source": [
    "def sortDict(inputDict):\n",
    "    return sorted(inputDict.items(), key=lambda x: (x[0], -x[1]))\n",
    "\n",
    "\n",
    "inputDict = {\"Pen\": 7, \"Book\": 4, \"Pencil\": 2, \"Copy\": 5}\n",
    "print(sortDict(inputDict))\n"
   ]
  },
  {
   "cell_type": "markdown",
   "id": "6067fd85",
   "metadata": {},
   "source": [
    "# 9\n",
    "Write a Python program that takes a list of tuples, where each tuple contains a string and a set of integers, and returns a new list containing the tuples sorted by the sum of the integers in the set, with ties broken by the length of the string."
   ]
  },
  {
   "cell_type": "code",
   "execution_count": 9,
   "id": "7e5e181d",
   "metadata": {},
   "outputs": [
    {
     "name": "stdout",
     "output_type": "stream",
     "text": [
      "[('Pencil', {72, 12, 6}), ('Pen', {75, 5, 15}), ('Copy', {50, 3, 150}), ('Books', {200, 2, 400})]\n"
     ]
    }
   ],
   "source": [
    "def sumSort(l):\n",
    "    return sorted(l, key=lambda x: (sum(x[1]), len(x[0])))\n",
    "\n",
    "\n",
    "listInput = [\n",
    "    (\"Pencil\", {12, 6, 72}),\n",
    "    (\"Pen\", {5, 15, 75}),\n",
    "    (\"Copy\", {3, 50, 150}),\n",
    "    (\"Books\", {2, 200, 400}),\n",
    "]\n",
    "print(sumSort(listInput))\n"
   ]
  },
  {
   "cell_type": "markdown",
   "id": "5147a1d9",
   "metadata": {},
   "source": [
    "# 10\n",
    "Write a Python function that takes a string as input and returns a new string where each word in the string is replaced with the word that appears most frequently in the string."
   ]
  },
  {
   "cell_type": "code",
   "execution_count": 10,
   "id": "c0f2a367",
   "metadata": {},
   "outputs": [
    {
     "name": "stdout",
     "output_type": "stream",
     "text": [
      "test test test test test test test test test test test test test test\n"
     ]
    }
   ],
   "source": [
    "def countWords(s):\n",
    "    words = s.split()\n",
    "    word_counts = {}\n",
    "\n",
    "    for word in words:\n",
    "        if word in word_counts:\n",
    "            word_counts[word] += 1\n",
    "        else:\n",
    "            word_counts[word] = 1\n",
    "\n",
    "    most_frequent_word = max(word_counts, key=word_counts.get)\n",
    "\n",
    "    return \" \".join([most_frequent_word] * len(words))\n",
    "\n",
    "\n",
    "text = \"this is a test strings to test the string and make it pass test\"\n",
    "print(countWords(text))\n"
   ]
  },
  {
   "cell_type": "markdown",
   "id": "6ba6a44a",
   "metadata": {},
   "source": [
    "# 11\n",
    "Write a Python program that takes a list of tuples, where each tuple contains a string and a list of integers, and returns a new list containing the tuples sorted by the median of the integers in the list, with ties broken by the  length of the string."
   ]
  },
  {
   "cell_type": "code",
   "execution_count": 12,
   "id": "f095aaee",
   "metadata": {},
   "outputs": [
    {
     "name": "stdout",
     "output_type": "stream",
     "text": [
      "[('abc', [1, 2, 3]), ('xyz', [4, 5, 6, 7]), ('def', [8, 9]), ('pqr', [10, 11, 12, 13, 14])]\n"
     ]
    }
   ],
   "source": [
    "def sort_tuples_by_median(tuples_list):\n",
    "    def median_and_negative_length(t):\n",
    "        string, integers = t\n",
    "        median = sum(integers) / len(integers)\n",
    "        return median, -len(string)\n",
    "\n",
    "    sorted_tuples = sorted(tuples_list, key=median_and_negative_length)\n",
    "    return sorted_tuples\n",
    "\n",
    "\n",
    "tuples_list = [\n",
    "    (\"abc\", [1, 2, 3]),\n",
    "    (\"xyz\", [4, 5, 6, 7]),\n",
    "    (\"def\", [8, 9]),\n",
    "    (\"pqr\", [10, 11, 12, 13, 14]),\n",
    "]\n",
    "\n",
    "sorted_list = sort_tuples_by_median(tuples_list)\n",
    "print(sorted_list)\n"
   ]
  },
  {
   "cell_type": "markdown",
   "id": "ed7b6fff",
   "metadata": {},
   "source": [
    "# 12\n",
    "Given an integer array nums, rotate the array to the right by k steps, where k is non-negative.\n",
    "For example nums = [1,2,3,4,5,6,7], k=3 should output [5,6,7,1,2,3,4]\n",
    "Do it with the least possible space. I.e O(1) space complexity."
   ]
  },
  {
   "cell_type": "code",
   "execution_count": 11,
   "id": "fe638769",
   "metadata": {},
   "outputs": [
    {
     "name": "stdout",
     "output_type": "stream",
     "text": [
      "[2, 1]\n"
     ]
    }
   ],
   "source": [
    "def rotate(l, k):\n",
    "    k = k % len(l) if k > len(l) else k\n",
    "    l[:] = l[k:] + l[:k]\n",
    "    return l\n",
    "\n",
    "\n",
    "print(rotate([1, 2], 3))\n"
   ]
  },
  {
   "cell_type": "code",
   "execution_count": null,
   "id": "f1fed4f1",
   "metadata": {},
   "outputs": [],
   "source": []
  }
 ],
 "metadata": {
  "kernelspec": {
   "display_name": "Python 3 (ipykernel)",
   "language": "python",
   "name": "python3"
  },
  "language_info": {
   "codemirror_mode": {
    "name": "ipython",
    "version": 3
   },
   "file_extension": ".py",
   "mimetype": "text/x-python",
   "name": "python",
   "nbconvert_exporter": "python",
   "pygments_lexer": "ipython3",
   "version": "3.9.13"
  }
 },
 "nbformat": 4,
 "nbformat_minor": 5
}
